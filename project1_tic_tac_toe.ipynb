{
 "cells": [
  {
   "cell_type": "code",
   "execution_count": 1,
   "metadata": {},
   "outputs": [],
   "source": [
    "from IPython.display import clear_output\n"
   ]
  },
  {
   "cell_type": "markdown",
   "metadata": {},
   "source": [
    "## step 1: write a function that can print out a board. set up your board as a list, where each index 1-9 corresponds with a number on a number pad, so you get a 3 by 3 board representation. \n"
   ]
  },
  {
   "cell_type": "code",
   "execution_count": 2,
   "metadata": {},
   "outputs": [],
   "source": [
    "\n",
    "def display_board(board):\n",
    "    clear_output()\n",
    "    print(board[7]+ '|' +board[8]+ '|' +board[9])\n",
    "    print(board[4]+ '|' +board[5]+ '|' +board[6])\n",
    "    print(board[1]+ '|' +board[2]+ '|' +board[3])"
   ]
  },
  {
   "cell_type": "code",
   "execution_count": 3,
   "metadata": {},
   "outputs": [
    {
     "name": "stdout",
     "output_type": "stream",
     "text": [
      "X|O|X\n",
      "O|X|O\n",
      "X|O|X\n"
     ]
    }
   ],
   "source": [
    "test_board= ['na','X','O','X','O','X','O','X','O','X']\n",
    "display_board(test_board)\n",
    "display_board(test_board)"
   ]
  },
  {
   "cell_type": "markdown",
   "metadata": {},
   "source": [
    "## step 2: write a function that can take in a player input and assign their marker as \"x\" or \"O\". Think about using while loops to continumally ask untile you get a correct answer."
   ]
  },
  {
   "cell_type": "code",
   "execution_count": 4,
   "metadata": {},
   "outputs": [],
   "source": [
    "def player_input():\n",
    "    marker=''\n",
    "    while marker != 'X' and marker != 'O': # or \" while not (maker==\"X\", or marker==\"O\"):\n",
    "        marker= input('player1: choose X or O: ').upper()\n",
    "    if marker == 'X':\n",
    "        return('X', 'O')\n",
    "    else:\n",
    "        return ('O', 'X')"
   ]
  },
  {
   "cell_type": "code",
   "execution_count": 5,
   "metadata": {},
   "outputs": [
    {
     "name": "stdout",
     "output_type": "stream",
     "text": [
      "player1: choose X or O: x\n"
     ]
    }
   ],
   "source": [
    "player1_marker, player2_marker=player_input()\n"
   ]
  },
  {
   "cell_type": "code",
   "execution_count": 6,
   "metadata": {},
   "outputs": [
    {
     "data": {
      "text/plain": [
       "'O'"
      ]
     },
     "execution_count": 6,
     "metadata": {},
     "output_type": "execute_result"
    }
   ],
   "source": [
    "\n",
    "player2_marker\n",
    "\n"
   ]
  },
  {
   "cell_type": "code",
   "execution_count": 7,
   "metadata": {},
   "outputs": [
    {
     "data": {
      "text/plain": [
       "'X'"
      ]
     },
     "execution_count": 7,
     "metadata": {},
     "output_type": "execute_result"
    }
   ],
   "source": [
    "player1_marker"
   ]
  },
  {
   "cell_type": "code",
   "execution_count": 8,
   "metadata": {},
   "outputs": [
    {
     "data": {
      "text/plain": [
       "('O', 'X')"
      ]
     },
     "execution_count": 8,
     "metadata": {},
     "output_type": "execute_result"
    }
   ],
   "source": [
    "player2_marker, player1_marker"
   ]
  },
  {
   "cell_type": "markdown",
   "metadata": {},
   "source": [
    "## step3: write a function that takes in the board list object, a marker('x', or 'O'), and a desired position (number1-9) and assignes it to the board."
   ]
  },
  {
   "cell_type": "code",
   "execution_count": 9,
   "metadata": {},
   "outputs": [],
   "source": [
    "def place_marker(board, marker, position):\n",
    "    board[position]= marker"
   ]
  },
  {
   "cell_type": "code",
   "execution_count": 10,
   "metadata": {},
   "outputs": [
    {
     "data": {
      "text/plain": [
       "['na', 'X', 'O', 'X', 'O', 'X', 'O', 'X', 'O', 'X']"
      ]
     },
     "execution_count": 10,
     "metadata": {},
     "output_type": "execute_result"
    }
   ],
   "source": [
    "test_board"
   ]
  },
  {
   "cell_type": "code",
   "execution_count": 11,
   "metadata": {},
   "outputs": [],
   "source": [
    "place_marker(test_board,\"$\", 2)"
   ]
  },
  {
   "cell_type": "code",
   "execution_count": 12,
   "metadata": {},
   "outputs": [
    {
     "name": "stdout",
     "output_type": "stream",
     "text": [
      "X|O|X\n",
      "O|X|O\n",
      "X|$|X\n"
     ]
    }
   ],
   "source": [
    "display_board(test_board)"
   ]
  },
  {
   "cell_type": "markdown",
   "metadata": {},
   "source": [
    "## step 4: write a function that takes in a board and a mark(X or O) and then checks to see if that mark has won."
   ]
  },
  {
   "cell_type": "code",
   "execution_count": 13,
   "metadata": {},
   "outputs": [],
   "source": [
    "def win_check(board, mark):\n",
    "    # win tic tac toe?\n",
    "    # all rows, and check to see if they all share the marker?\n",
    "    # all coluns, check to see if marker matches\n",
    "    # 2 dagonals, check to see match\n",
    "    return ((board[1]==mark and board[2]==mark and board[3]==mark) or \n",
    "    (board[4]==board[5]==board[6]==mark) or\n",
    "    (board[7]==board[8]==board[9]==mark) or \n",
    "    (board[7]==board[4]==board[1]==mark) or\n",
    "    (board[2]==board[5]==board[8]==mark) or \n",
    "    (board[3]==board[6]==board[9]==mark) or \n",
    "    (board[1]==board[5]==board[9]==mark) or \n",
    "    (board[3]==board[5]==board[7]==mark)) \n",
    "    "
   ]
  },
  {
   "cell_type": "code",
   "execution_count": 14,
   "metadata": {},
   "outputs": [
    {
     "data": {
      "text/plain": [
       "False"
      ]
     },
     "execution_count": 14,
     "metadata": {},
     "output_type": "execute_result"
    }
   ],
   "source": [
    "win_check(test_board,'O')"
   ]
  },
  {
   "cell_type": "markdown",
   "metadata": {},
   "source": [
    "## step 5: write a function that uses the random module to randomly decide which player goes first. you may want to look up random.randint() return a string of which player went first."
   ]
  },
  {
   "cell_type": "code",
   "execution_count": 15,
   "metadata": {},
   "outputs": [],
   "source": [
    "import random\n",
    "def choose_first():\n",
    "    flip= random.randint(0,1)\n",
    "    if flip == 0:\n",
    "        return \"player1\"\n",
    "    else:\n",
    "        return \"player2\""
   ]
  },
  {
   "cell_type": "markdown",
   "metadata": {},
   "source": [
    "## step6: write a function that returns a boolean indicating whether a space on the board is freely available"
   ]
  },
  {
   "cell_type": "code",
   "execution_count": 16,
   "metadata": {},
   "outputs": [],
   "source": [
    "def space_check(board, position):\n",
    "    return board[position]==''"
   ]
  },
  {
   "cell_type": "markdown",
   "metadata": {},
   "source": [
    "## step 7: write a function that checks if the board is full and returns a boolean value. True if full, False otherwise. \n"
   ]
  },
  {
   "cell_type": "code",
   "execution_count": 17,
   "metadata": {},
   "outputs": [],
   "source": [
    "def full_board_check(board):\n",
    "    for i in range(1,10):\n",
    "        if space_check(board, i):\n",
    "            return False\n",
    "    #board is full\n",
    "    return True"
   ]
  },
  {
   "cell_type": "markdown",
   "metadata": {},
   "source": [
    "## step 8:write a function that asks for a player's next position (as a number 1-9) and then uses the function from step 6 to check if it's a free position. if it is, then return the position for later use. "
   ]
  },
  {
   "cell_type": "code",
   "execution_count": 18,
   "metadata": {},
   "outputs": [],
   "source": [
    "def player_choice(board):\n",
    "    position= 0\n",
    "    while position not in [1,2,3,4,5,6,7,8,9] or not space_check(board, position):\n",
    "        position= int(input('choose a position: (1-9)'))\n",
    "    return position"
   ]
  },
  {
   "cell_type": "markdown",
   "metadata": {},
   "source": [
    "## step 9: Write a function that asks the player if they want to play again and returns a boolean True if they do want to play again."
   ]
  },
  {
   "cell_type": "code",
   "execution_count": 21,
   "metadata": {},
   "outputs": [],
   "source": [
    "def replay():\n",
    "    choice=input('Play again? Enter yes or no')\n",
    "    return choice=='yes'"
   ]
  },
  {
   "cell_type": "markdown",
   "metadata": {},
   "source": [
    "## step 10: Here comes the hard part! Use while loops and the functions you've made to run the game!"
   ]
  },
  {
   "cell_type": "code",
   "execution_count": 22,
   "metadata": {},
   "outputs": [
    {
     "name": "stdout",
     "output_type": "stream",
     "text": [
      "O||\n",
      "O|X|O\n",
      "O|X|O\n",
      "Player 1 Has Won!\n",
      "Play again? Enter yes or noyes\n",
      "player1: choose X or O: o\n",
      "player2will go first\n",
      "Ready to play? y or n?n\n",
      "Play again? Enter yes or nono\n"
     ]
    }
   ],
   "source": [
    "#while loop to keep running the game\n",
    "#break out of the while loop on replay()\n",
    "print('Welcome to Tic Tac Toe')\n",
    "while True:\n",
    "    #play the game\n",
    "    ## set everything up (board, whos first, choose marker x or o)\n",
    "    the_board= ['']*10\n",
    "    player1_marker, player2_marker=player_input()\n",
    "    turn= choose_first()\n",
    "    print(turn + 'will go first')\n",
    "    \n",
    "    play_game = input('Ready to play? y or n?')\n",
    "    if play_game=='y':\n",
    "        game_on=True\n",
    "        \n",
    "    else:\n",
    "        game_on= False\n",
    " \n",
    " ## game play  \n",
    "    while game_on:\n",
    "        if turn=='player1':\n",
    "             \n",
    "            # show the board\n",
    "            display_board(the_board)\n",
    "            \n",
    "            # choose a position\n",
    "            position=player_choice(the_board)\n",
    "            \n",
    "            #place the marker on the position\n",
    "            place_marker(the_board, player1_marker, position)\n",
    "           \n",
    "            #check if they won\n",
    "            if win_check(the_board, player1_marker):\n",
    "                display_board(the_board)\n",
    "                print('Player 1 Has Won!')\n",
    "                game_on=False\n",
    "                \n",
    "                \n",
    "                # or check if there is a tie\n",
    "            else:\n",
    "                if full_board_check(the_board):\n",
    "                    display_board(the_board)\n",
    "                    print('Tie Game!')\n",
    "                    game_on=False\n",
    "                else:\n",
    "               # no tie and no win? then next player's turn\n",
    "                    turn='player2'\n",
    "\n",
    "         \n",
    "            ###player2 turn\n",
    "        else:\n",
    "            # show the board\n",
    "            display_board(the_board)\n",
    "            \n",
    "            # choose a position\n",
    "            position=player_choice(the_board)\n",
    "            \n",
    "            #place the marker on the position\n",
    "            place_marker(the_board, player2_marker, position)\n",
    "           \n",
    "            #check if they won\n",
    "            if win_check(the_board, player2_marker):\n",
    "                display_board(the_board)\n",
    "                print('Player 2 Has Won!')\n",
    "                game_on=False\n",
    "            else:\n",
    "                if full_board_check(the_board):\n",
    "                    display_board(the_board)\n",
    "                    print('Tie Game!')\n",
    "                    game_on=False\n",
    "                else:\n",
    "                    turn='player1'\n",
    "            ###player2 turn\n",
    "          \n",
    "            # choose a position\n",
    "            position=player_choice(the_board)\n",
    "            \n",
    "            #place the marker on the position\n",
    "            place_marker(the_board, player1_marker, position)\n",
    "            #check if they won\n",
    "            # or check if there is a tie\n",
    "            # no tie and no win? then next player's turn\n",
    "\n",
    "    if not replay():\n",
    "        break\n",
    "        #break out of the while loop on replay()"
   ]
  },
  {
   "cell_type": "code",
   "execution_count": null,
   "metadata": {},
   "outputs": [],
   "source": []
  }
 ],
 "metadata": {
  "kernelspec": {
   "display_name": "Python 3",
   "language": "python",
   "name": "python3"
  },
  "language_info": {
   "codemirror_mode": {
    "name": "ipython",
    "version": 3
   },
   "file_extension": ".py",
   "mimetype": "text/x-python",
   "name": "python",
   "nbconvert_exporter": "python",
   "pygments_lexer": "ipython3",
   "version": "3.7.6"
  }
 },
 "nbformat": 4,
 "nbformat_minor": 4
}
